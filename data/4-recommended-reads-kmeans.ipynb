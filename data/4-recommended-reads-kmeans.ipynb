{
 "cells": [
  {
   "cell_type": "code",
   "execution_count": 1,
   "id": "0b06f0b1",
   "metadata": {
    "_cell_guid": "b1076dfc-b9ad-4769-8c92-a6c4dae69d19",
    "_uuid": "8f2839f25d086af736a60e9eeb907d3b93b6e0e5",
    "execution": {
     "iopub.execute_input": "2023-05-10T09:12:38.060474Z",
     "iopub.status.busy": "2023-05-10T09:12:38.059750Z",
     "iopub.status.idle": "2023-05-10T09:12:38.126321Z",
     "shell.execute_reply": "2023-05-10T09:12:38.125134Z"
    },
    "papermill": {
     "duration": 0.074165,
     "end_time": "2023-05-10T09:12:38.129292",
     "exception": false,
     "start_time": "2023-05-10T09:12:38.055127",
     "status": "completed"
    },
    "tags": []
   },
   "outputs": [
    {
     "name": "stdout",
     "output_type": "stream",
     "text": [
      "/kaggle/input/googlenewsvectors/GoogleNews-vectors-negative300.bin\n",
      "/kaggle/input/2-recommended-reads-conversion-of-data-to-num/__results__.html\n",
      "/kaggle/input/2-recommended-reads-conversion-of-data-to-num/vectorizedData.csv\n",
      "/kaggle/input/2-recommended-reads-conversion-of-data-to-num/__notebook__.ipynb\n",
      "/kaggle/input/2-recommended-reads-conversion-of-data-to-num/__output__.json\n",
      "/kaggle/input/2-recommended-reads-conversion-of-data-to-num/custom.css\n",
      "/kaggle/input/2-recommended-reads-conversion-of-data-to-num/__results___files/__results___9_0.png\n"
     ]
    }
   ],
   "source": [
    "# This Python 3 environment comes with many helpful analytics libraries installed\n",
    "# It is defined by the kaggle/python Docker image: https://github.com/kaggle/docker-python\n",
    "# For example, here's several helpful packages to load\n",
    "\n",
    "import numpy as np # linear algebra\n",
    "import pandas as pd # data processing, CSV file I/O (e.g. pd.read_csv)\n",
    "\n",
    "# Input data files are available in the read-only \"../input/\" directory\n",
    "# For example, running this (by clicking run or pressing Shift+Enter) will list all files under the input directory\n",
    "\n",
    "import os\n",
    "for dirname, _, filenames in os.walk('/kaggle/input'):\n",
    "    for filename in filenames:\n",
    "        print(os.path.join(dirname, filename))\n",
    "\n",
    "# You can write up to 20GB to the current directory (/kaggle/working/) that gets preserved as output when you create a version using \"Save & Run All\" \n",
    "# You can also write temporary files to /kaggle/temp/, but they won't be saved outside of the current session"
   ]
  },
  {
   "cell_type": "code",
   "execution_count": 2,
   "id": "437a3fd5",
   "metadata": {
    "execution": {
     "iopub.execute_input": "2023-05-10T09:12:38.137969Z",
     "iopub.status.busy": "2023-05-10T09:12:38.137545Z",
     "iopub.status.idle": "2023-05-10T09:14:23.143652Z",
     "shell.execute_reply": "2023-05-10T09:14:23.141816Z"
    },
    "papermill": {
     "duration": 105.014661,
     "end_time": "2023-05-10T09:14:23.146633",
     "exception": false,
     "start_time": "2023-05-10T09:12:38.131972",
     "status": "completed"
    },
    "tags": []
   },
   "outputs": [
    {
     "name": "stderr",
     "output_type": "stream",
     "text": [
      "/opt/conda/lib/python3.10/site-packages/scipy/__init__.py:146: UserWarning: A NumPy version >=1.16.5 and <1.23.0 is required for this version of SciPy (detected version 1.23.5\n",
      "  warnings.warn(f\"A NumPy version >={np_minversion} and <{np_maxversion}\"\n",
      "/opt/conda/lib/python3.10/site-packages/sklearn/cluster/_kmeans.py:870: FutureWarning: The default value of `n_init` will change from 10 to 'auto' in 1.4. Set the value of `n_init` explicitly to suppress the warning\n",
      "  warnings.warn(\n"
     ]
    },
    {
     "name": "stdout",
     "output_type": "stream",
     "text": [
      "Kullanıcının girdiği kitaba benzer kitaplar:\n",
      "Curiosity: The Story of a Mars Rover by Markus Motum (59.72%)\n",
      "Dalek Empire II: Dalek War - Chapter Three by Nicholas Briggs (58.91%)\n",
      "The Three-Cornered War by John Dalmas (58.45%)\n",
      "A World Out of Time by Larry Niven (56.9%)\n",
      "Star Marines by Ian Douglas (56.44%)\n",
      "Vortex by Robert Charles Wilson (56.22%)\n",
      "The Forge by S.M. Stirling (56.14%)\n",
      "The Clockwork Rocket by Greg Egan (56.0%)\n",
      "The Lord of the Sands of Time by Issui Ogawa (55.56%)\n",
      "On Silver Wings by Evan Currie (55.53%)\n"
     ]
    }
   ],
   "source": [
    "from gensim.models import KeyedVectors\n",
    "import numpy as np\n",
    "import ast\n",
    "import pandas as pd\n",
    "from sklearn.cluster import KMeans\n",
    "\n",
    "# Veri setini yükleme\n",
    "data_path = '/kaggle/input/2-recommended-reads-conversion-of-data-to-num/vectorizedData.csv'\n",
    "data = pd.read_csv(data_path)\n",
    "data = data.drop_duplicates(subset=['booktitle', 'authorname'], keep='first')\n",
    "data[\"word2vec\"] = data[\"word2vec\"].apply(lambda x: x.strip('[]'))\n",
    "data[\"word2vec\"] = data[\"word2vec\"].apply(lambda x: x.split())\n",
    "data[\"word2vec\"] = data[\"word2vec\"].apply(lambda x:  [float(y) for y in x])\n",
    "\n",
    "# Google News Binary modelinin yolu\n",
    "model_path = '/kaggle/input/googlenewsvectors/GoogleNews-vectors-negative300.bin'\n",
    "\n",
    "# Google News Binary modelini yükleme\n",
    "word_vectors = KeyedVectors.load_word2vec_format(model_path, binary=True)\n",
    "\n",
    "# Kullanıcının girdiği kitap betimlemesi\n",
    "user_description = 'planet travel'\n",
    "user_vector = np.mean([word_vectors[word] for word in user_description.split() if word in word_vectors.key_to_index], axis=0)\n",
    "\n",
    "X = np.array(data[\"word2vec\"].tolist())\n",
    "\n",
    "# KMeans algoritması kullanarak kümeleme yapma\n",
    "kmeans = KMeans(n_clusters=10, random_state=0).fit(X)\n",
    "\n",
    "# Kullanıcının girdiği kitaba benzer kitapların belirlenmesi\n",
    "similar_books = []\n",
    "for i, label in enumerate(kmeans.labels_):\n",
    "    if label == kmeans.predict([user_vector])[0]:\n",
    "        book = data.iloc[i][['booktitle', 'authorname']].values.tolist()\n",
    "        similarity = np.dot(user_vector, X[i]) / (np.linalg.norm(user_vector) * np.linalg.norm(X[i]))\n",
    "        similarity_percent = round(similarity * 100, 2)\n",
    "        similar_books.append((book[0], book[1], similarity_percent))\n",
    "\n",
    "# Yakınlık oranlarını hesaplama ve yüzde olarak gösterme\n",
    "print(\"Kullanıcının girdiği kitaba benzer kitaplar:\")\n",
    "for book in sorted(similar_books, key=lambda x: x[2], reverse=True)[:10]:\n",
    "    print(f\"{book[0]} by {book[1]} ({book[2]}%)\")\n"
   ]
  },
  {
   "cell_type": "code",
   "execution_count": null,
   "id": "eb2d53b9",
   "metadata": {
    "papermill": {
     "duration": 0.002763,
     "end_time": "2023-05-10T09:14:23.152892",
     "exception": false,
     "start_time": "2023-05-10T09:14:23.150129",
     "status": "completed"
    },
    "tags": []
   },
   "outputs": [],
   "source": []
  }
 ],
 "metadata": {
  "kernelspec": {
   "display_name": "Python 3",
   "language": "python",
   "name": "python3"
  },
  "language_info": {
   "codemirror_mode": {
    "name": "ipython",
    "version": 3
   },
   "file_extension": ".py",
   "mimetype": "text/x-python",
   "name": "python",
   "nbconvert_exporter": "python",
   "pygments_lexer": "ipython3",
   "version": "3.10.10"
  },
  "papermill": {
   "default_parameters": {},
   "duration": 122.811877,
   "end_time": "2023-05-10T09:14:24.882298",
   "environment_variables": {},
   "exception": null,
   "input_path": "__notebook__.ipynb",
   "output_path": "__notebook__.ipynb",
   "parameters": {},
   "start_time": "2023-05-10T09:12:22.070421",
   "version": "2.4.0"
  }
 },
 "nbformat": 4,
 "nbformat_minor": 5
}

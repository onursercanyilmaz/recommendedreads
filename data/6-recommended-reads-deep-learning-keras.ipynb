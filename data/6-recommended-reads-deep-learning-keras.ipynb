{
 "cells": [
  {
   "cell_type": "code",
   "execution_count": 1,
   "id": "63538376",
   "metadata": {
    "_cell_guid": "b1076dfc-b9ad-4769-8c92-a6c4dae69d19",
    "_uuid": "8f2839f25d086af736a60e9eeb907d3b93b6e0e5",
    "execution": {
     "iopub.execute_input": "2023-05-19T13:32:55.449759Z",
     "iopub.status.busy": "2023-05-19T13:32:55.449265Z",
     "iopub.status.idle": "2023-05-19T13:32:55.479252Z",
     "shell.execute_reply": "2023-05-19T13:32:55.477750Z"
    },
    "papermill": {
     "duration": 0.039776,
     "end_time": "2023-05-19T13:32:55.482279",
     "exception": false,
     "start_time": "2023-05-19T13:32:55.442503",
     "status": "completed"
    },
    "tags": []
   },
   "outputs": [
    {
     "name": "stdout",
     "output_type": "stream",
     "text": [
      "/kaggle/input/2-recommended-reads-conversion-of-data-to-num/__results__.html\n",
      "/kaggle/input/2-recommended-reads-conversion-of-data-to-num/vectorizedData.csv\n",
      "/kaggle/input/2-recommended-reads-conversion-of-data-to-num/__notebook__.ipynb\n",
      "/kaggle/input/2-recommended-reads-conversion-of-data-to-num/__output__.json\n",
      "/kaggle/input/2-recommended-reads-conversion-of-data-to-num/custom.css\n",
      "/kaggle/input/2-recommended-reads-conversion-of-data-to-num/__results___files/__results___9_0.png\n",
      "/kaggle/input/googlenewsvectors/GoogleNews-vectors-negative300.bin\n"
     ]
    }
   ],
   "source": [
    "# This Python 3 environment comes with many helpful analytics libraries installed\n",
    "# It is defined by the kaggle/python Docker image: https://github.com/kaggle/docker-python\n",
    "# For example, here's several helpful packages to load\n",
    "\n",
    "import numpy as np # linear algebra\n",
    "import pandas as pd # data processing, CSV file I/O (e.g. pd.read_csv)\n",
    "\n",
    "# Input data files are available in the read-only \"../input/\" directory\n",
    "# For example, running this (by clicking run or pressing Shift+Enter) will list all files under the input directory\n",
    "\n",
    "import os\n",
    "for dirname, _, filenames in os.walk('/kaggle/input'):\n",
    "    for filename in filenames:\n",
    "        print(os.path.join(dirname, filename))\n",
    "\n",
    "# You can write up to 20GB to the current directory (/kaggle/working/) that gets preserved as output when you create a version using \"Save & Run All\" \n",
    "# You can also write temporary files to /kaggle/temp/, but they won't be saved outside of the current session"
   ]
  },
  {
   "cell_type": "markdown",
   "id": "002ad968",
   "metadata": {
    "papermill": {
     "duration": 0.004181,
     "end_time": "2023-05-19T13:32:55.491180",
     "exception": false,
     "start_time": "2023-05-19T13:32:55.486999",
     "status": "completed"
    },
    "tags": []
   },
   "source": [
    "LSTM SimpleRNN Embedding\n"
   ]
  },
  {
   "cell_type": "code",
   "execution_count": 2,
   "id": "33f0526b",
   "metadata": {
    "execution": {
     "iopub.execute_input": "2023-05-19T13:32:55.502164Z",
     "iopub.status.busy": "2023-05-19T13:32:55.501700Z",
     "iopub.status.idle": "2023-05-19T13:48:20.979188Z",
     "shell.execute_reply": "2023-05-19T13:48:20.977690Z"
    },
    "papermill": {
     "duration": 925.628849,
     "end_time": "2023-05-19T13:48:21.124353",
     "exception": false,
     "start_time": "2023-05-19T13:32:55.495504",
     "status": "completed"
    },
    "tags": []
   },
   "outputs": [
    {
     "name": "stderr",
     "output_type": "stream",
     "text": [
      "/opt/conda/lib/python3.10/site-packages/scipy/__init__.py:146: UserWarning: A NumPy version >=1.16.5 and <1.23.0 is required for this version of SciPy (detected version 1.23.5\n",
      "  warnings.warn(f\"A NumPy version >={np_minversion} and <{np_maxversion}\"\n"
     ]
    },
    {
     "name": "stdout",
     "output_type": "stream",
     "text": [
      "Epoch 1/10\n",
      "138/138 [==============================] - 103s 700ms/step - loss: 2.1991 - accuracy: 0.2575 - val_loss: 1.6781 - val_accuracy: 0.4694\n",
      "Epoch 2/10\n",
      "138/138 [==============================] - 89s 642ms/step - loss: 1.1331 - accuracy: 0.6524 - val_loss: 1.3214 - val_accuracy: 0.5977\n",
      "Epoch 3/10\n",
      "138/138 [==============================] - 88s 641ms/step - loss: 0.4239 - accuracy: 0.8673 - val_loss: 1.4810 - val_accuracy: 0.5905\n",
      "Epoch 4/10\n",
      "138/138 [==============================] - 88s 638ms/step - loss: 0.1102 - accuracy: 0.9714 - val_loss: 1.7025 - val_accuracy: 0.5878\n",
      "Epoch 5/10\n",
      "138/138 [==============================] - 87s 627ms/step - loss: 0.0275 - accuracy: 0.9952 - val_loss: 2.0453 - val_accuracy: 0.5887\n",
      "Epoch 6/10\n",
      "138/138 [==============================] - 88s 639ms/step - loss: 0.0071 - accuracy: 0.9993 - val_loss: 2.1628 - val_accuracy: 0.5859\n",
      "Epoch 7/10\n",
      "138/138 [==============================] - 88s 636ms/step - loss: 0.0034 - accuracy: 0.9995 - val_loss: 2.2525 - val_accuracy: 0.5832\n",
      "Epoch 8/10\n",
      "138/138 [==============================] - 89s 644ms/step - loss: 0.0025 - accuracy: 0.9997 - val_loss: 2.3871 - val_accuracy: 0.5896\n",
      "Epoch 9/10\n",
      "138/138 [==============================] - 90s 651ms/step - loss: 0.0015 - accuracy: 0.9998 - val_loss: 2.4404 - val_accuracy: 0.5859\n",
      "Epoch 10/10\n",
      "138/138 [==============================] - 90s 652ms/step - loss: 0.0014 - accuracy: 0.9998 - val_loss: 2.4881 - val_accuracy: 0.5782\n"
     ]
    },
    {
     "data": {
      "text/plain": [
       "<keras.callbacks.History at 0x7b10e7bfe1d0>"
      ]
     },
     "execution_count": 2,
     "metadata": {},
     "output_type": "execute_result"
    }
   ],
   "source": [
    "from tensorflow import keras\n",
    "from tensorflow.keras.layers import Input, Embedding, LSTM, SimpleRNN, Dense\n",
    "from tensorflow.keras.models import Model\n",
    "from tensorflow.keras.preprocessing.sequence import pad_sequences\n",
    "from sklearn.model_selection import train_test_split\n",
    "from sklearn.preprocessing import LabelEncoder\n",
    "from tensorflow.keras.utils import to_categorical\n",
    "\n",
    "# Step 1: Prepare the data\n",
    "max_title_length = 50\n",
    "max_author_length = 50\n",
    "max_desc_length = 200\n",
    "num_classes = 10\n",
    "# Load the data\n",
    "dataset = pd.read_csv(\"/kaggle/input/2-recommended-reads-conversion-of-data-to-num/vectorizedData.csv\")\n",
    "dataset = dataset.drop_duplicates(subset=['booktitle', 'authorname'], keep='first')\n",
    "\n",
    "# Assuming you have a dataset object containing your data\n",
    "# Split the data into input (X) and output (y) variables\n",
    "X = dataset[['booktitle', 'authorname', 'bookdescription']].values\n",
    "y = dataset['type'].values\n",
    "\n",
    "# Tokenize and pad the input sequences\n",
    "tokenizer = keras.preprocessing.text.Tokenizer()\n",
    "tokenizer.fit_on_texts(X[:, 0])  # title\n",
    "tokenizer.fit_on_texts(X[:, 1])  # author\n",
    "tokenizer.fit_on_texts(X[:, 2])  # description\n",
    "\n",
    "title_sequences = tokenizer.texts_to_sequences(X[:, 0])\n",
    "title_sequences = pad_sequences(title_sequences, maxlen=max_title_length)\n",
    "author_sequences = tokenizer.texts_to_sequences(X[:, 1])\n",
    "author_sequences = pad_sequences(author_sequences, maxlen=max_author_length)\n",
    "desc_sequences = tokenizer.texts_to_sequences(X[:, 2])\n",
    "desc_sequences = pad_sequences(desc_sequences, maxlen=max_desc_length)\n",
    "\n",
    "# Encode the target labels\n",
    "label_encoder = LabelEncoder()\n",
    "encoded_labels = label_encoder.fit_transform(y)\n",
    "num_classes = len(label_encoder.classes_)\n",
    "encoded_labels = to_categorical(encoded_labels)\n",
    "\n",
    "# Split the data into training and testing sets\n",
    "train_title, test_title, train_author, test_author, train_desc, test_desc, train_labels, test_labels = \\\n",
    "    train_test_split(title_sequences, author_sequences, desc_sequences, encoded_labels, test_size=0.2, random_state=42)\n",
    "\n",
    "# Step 2: Build the model\n",
    "title_input = Input(shape=(max_title_length,))\n",
    "title_embedded = Embedding(len(tokenizer.word_index) + 1, 100)(title_input)\n",
    "title_lstm = LSTM(128)(title_embedded)\n",
    "\n",
    "author_input = Input(shape=(max_author_length,))\n",
    "author_embedded = Embedding(len(tokenizer.word_index) + 1, 100)(author_input)\n",
    "author_rnn = SimpleRNN(64)(author_embedded)\n",
    "\n",
    "desc_input = Input(shape=(max_desc_length,))\n",
    "desc_embedded = Embedding(len(tokenizer.word_index) + 1, 100)(desc_input)\n",
    "desc_lstm = LSTM(128)(desc_embedded)\n",
    "\n",
    "merged = keras.layers.concatenate([title_lstm, author_rnn, desc_lstm])\n",
    "dense = Dense(128, activation='relu')(merged)\n",
    "output = Dense(num_classes, activation='softmax')(dense)\n",
    "\n",
    "model = Model(inputs=[title_input, author_input, desc_input], outputs=output)\n",
    "\n",
    "# Compile the model\n",
    "model.compile(loss='categorical_crossentropy', optimizer='adam', metrics=['accuracy'])\n",
    "\n",
    "# Train the model\n",
    "model.fit([train_title, train_author, train_desc], train_labels, validation_data=([test_title, test_author, test_desc], test_labels), epochs=10, batch_size=64)\n"
   ]
  },
  {
   "cell_type": "code",
   "execution_count": 3,
   "id": "7b58fad1",
   "metadata": {
    "execution": {
     "iopub.execute_input": "2023-05-19T13:48:21.382904Z",
     "iopub.status.busy": "2023-05-19T13:48:21.382400Z",
     "iopub.status.idle": "2023-05-19T13:48:22.141830Z",
     "shell.execute_reply": "2023-05-19T13:48:22.140340Z"
    },
    "papermill": {
     "duration": 0.891384,
     "end_time": "2023-05-19T13:48:22.145161",
     "exception": false,
     "start_time": "2023-05-19T13:48:21.253777",
     "status": "completed"
    },
    "tags": []
   },
   "outputs": [],
   "source": [
    "model.save(\"booktypemodel.h5\")"
   ]
  },
  {
   "cell_type": "code",
   "execution_count": 4,
   "id": "39d2cee6",
   "metadata": {
    "execution": {
     "iopub.execute_input": "2023-05-19T13:48:22.411357Z",
     "iopub.status.busy": "2023-05-19T13:48:22.409650Z",
     "iopub.status.idle": "2023-05-19T13:48:23.833277Z",
     "shell.execute_reply": "2023-05-19T13:48:23.831682Z"
    },
    "papermill": {
     "duration": 1.558754,
     "end_time": "2023-05-19T13:48:23.836597",
     "exception": false,
     "start_time": "2023-05-19T13:48:22.277843",
     "status": "completed"
    },
    "tags": []
   },
   "outputs": [],
   "source": [
    "model = keras.models.load_model('/kaggle/working/booktypemodel.h5')"
   ]
  },
  {
   "cell_type": "code",
   "execution_count": 5,
   "id": "4206ca33",
   "metadata": {
    "execution": {
     "iopub.execute_input": "2023-05-19T13:48:24.109061Z",
     "iopub.status.busy": "2023-05-19T13:48:24.108413Z",
     "iopub.status.idle": "2023-05-19T13:48:24.116118Z",
     "shell.execute_reply": "2023-05-19T13:48:24.115102Z"
    },
    "papermill": {
     "duration": 0.149683,
     "end_time": "2023-05-19T13:48:24.118620",
     "exception": false,
     "start_time": "2023-05-19T13:48:23.968937",
     "status": "completed"
    },
    "tags": []
   },
   "outputs": [],
   "source": [
    "# Assuming you have a new input example\n",
    "new_title = \"Dune\"\n",
    "new_author = \"Herbert\"\n",
    "new_desc = \"A space journey with friends\"\n",
    "\n",
    "# Tokenize and pad the input sequences\n",
    "new_title_sequence = tokenizer.texts_to_sequences([new_title])\n",
    "new_title_sequence = pad_sequences(new_title_sequence, maxlen=max_title_length)\n",
    "new_author_sequence = tokenizer.texts_to_sequences([new_author])\n",
    "new_author_sequence = pad_sequences(new_author_sequence, maxlen=max_author_length)\n",
    "new_desc_sequence = tokenizer.texts_to_sequences([new_desc])\n",
    "new_desc_sequence = pad_sequences(new_desc_sequence, maxlen=max_desc_length)\n"
   ]
  },
  {
   "cell_type": "code",
   "execution_count": 6,
   "id": "3158904b",
   "metadata": {
    "execution": {
     "iopub.execute_input": "2023-05-19T13:48:24.388470Z",
     "iopub.status.busy": "2023-05-19T13:48:24.387630Z",
     "iopub.status.idle": "2023-05-19T13:48:25.698959Z",
     "shell.execute_reply": "2023-05-19T13:48:25.697535Z"
    },
    "papermill": {
     "duration": 1.446772,
     "end_time": "2023-05-19T13:48:25.702198",
     "exception": false,
     "start_time": "2023-05-19T13:48:24.255426",
     "status": "completed"
    },
    "tags": []
   },
   "outputs": [
    {
     "name": "stdout",
     "output_type": "stream",
     "text": [
      "1/1 [==============================] - 1s 1s/step\n"
     ]
    }
   ],
   "source": [
    "prediction = model.predict([new_title_sequence, new_author_sequence, new_desc_sequence])\n"
   ]
  },
  {
   "cell_type": "code",
   "execution_count": 7,
   "id": "3218ba3a",
   "metadata": {
    "execution": {
     "iopub.execute_input": "2023-05-19T13:48:25.988811Z",
     "iopub.status.busy": "2023-05-19T13:48:25.988258Z",
     "iopub.status.idle": "2023-05-19T13:48:25.995234Z",
     "shell.execute_reply": "2023-05-19T13:48:25.993412Z"
    },
    "papermill": {
     "duration": 0.157077,
     "end_time": "2023-05-19T13:48:25.998308",
     "exception": false,
     "start_time": "2023-05-19T13:48:25.841231",
     "status": "completed"
    },
    "tags": []
   },
   "outputs": [],
   "source": [
    "predicted_class_index = np.argmax(prediction)\n"
   ]
  },
  {
   "cell_type": "code",
   "execution_count": 8,
   "id": "059a9c97",
   "metadata": {
    "execution": {
     "iopub.execute_input": "2023-05-19T13:48:26.294100Z",
     "iopub.status.busy": "2023-05-19T13:48:26.293643Z",
     "iopub.status.idle": "2023-05-19T13:48:26.300661Z",
     "shell.execute_reply": "2023-05-19T13:48:26.299797Z"
    },
    "papermill": {
     "duration": 0.162237,
     "end_time": "2023-05-19T13:48:26.303394",
     "exception": false,
     "start_time": "2023-05-19T13:48:26.141157",
     "status": "completed"
    },
    "tags": []
   },
   "outputs": [
    {
     "data": {
      "text/plain": [
       "'robots'"
      ]
     },
     "execution_count": 8,
     "metadata": {},
     "output_type": "execute_result"
    }
   ],
   "source": [
    "predicted_class = label_encoder.classes_[predicted_class_index]\n",
    "predicted_class"
   ]
  },
  {
   "cell_type": "code",
   "execution_count": null,
   "id": "15783d77",
   "metadata": {
    "papermill": {
     "duration": 0.126836,
     "end_time": "2023-05-19T13:48:26.560973",
     "exception": false,
     "start_time": "2023-05-19T13:48:26.434137",
     "status": "completed"
    },
    "tags": []
   },
   "outputs": [],
   "source": []
  }
 ],
 "metadata": {
  "kernelspec": {
   "display_name": "Python 3",
   "language": "python",
   "name": "python3"
  },
  "language_info": {
   "codemirror_mode": {
    "name": "ipython",
    "version": 3
   },
   "file_extension": ".py",
   "mimetype": "text/x-python",
   "name": "python",
   "nbconvert_exporter": "python",
   "pygments_lexer": "ipython3",
   "version": "3.10.10"
  },
  "papermill": {
   "default_parameters": {},
   "duration": 947.546957,
   "end_time": "2023-05-19T13:48:30.040369",
   "environment_variables": {},
   "exception": null,
   "input_path": "__notebook__.ipynb",
   "output_path": "__notebook__.ipynb",
   "parameters": {},
   "start_time": "2023-05-19T13:32:42.493412",
   "version": "2.4.0"
  }
 },
 "nbformat": 4,
 "nbformat_minor": 5
}

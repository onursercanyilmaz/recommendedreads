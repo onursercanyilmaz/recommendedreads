{
 "cells": [
  {
   "cell_type": "code",
   "execution_count": 1,
   "id": "2cbdcfdd",
   "metadata": {
    "_cell_guid": "b1076dfc-b9ad-4769-8c92-a6c4dae69d19",
    "_uuid": "8f2839f25d086af736a60e9eeb907d3b93b6e0e5",
    "execution": {
     "iopub.execute_input": "2023-05-19T11:44:56.657426Z",
     "iopub.status.busy": "2023-05-19T11:44:56.656289Z",
     "iopub.status.idle": "2023-05-19T11:44:56.684014Z",
     "shell.execute_reply": "2023-05-19T11:44:56.682785Z"
    },
    "papermill": {
     "duration": 0.035127,
     "end_time": "2023-05-19T11:44:56.686784",
     "exception": false,
     "start_time": "2023-05-19T11:44:56.651657",
     "status": "completed"
    },
    "tags": []
   },
   "outputs": [
    {
     "name": "stdout",
     "output_type": "stream",
     "text": [
      "/kaggle/input/2-recommended-reads-conversion-of-data-to-num/__results__.html\n",
      "/kaggle/input/2-recommended-reads-conversion-of-data-to-num/vectorizedData.csv\n",
      "/kaggle/input/2-recommended-reads-conversion-of-data-to-num/__notebook__.ipynb\n",
      "/kaggle/input/2-recommended-reads-conversion-of-data-to-num/__output__.json\n",
      "/kaggle/input/2-recommended-reads-conversion-of-data-to-num/custom.css\n",
      "/kaggle/input/2-recommended-reads-conversion-of-data-to-num/__results___files/__results___9_0.png\n",
      "/kaggle/input/googlenewsvectors/GoogleNews-vectors-negative300.bin\n"
     ]
    }
   ],
   "source": [
    "# This Python 3 environment comes with many helpful analytics libraries installed\n",
    "# It is defined by the kaggle/python Docker image: https://github.com/kaggle/docker-python\n",
    "# For example, here's several helpful packages to load\n",
    "\n",
    "import numpy as np # linear algebra\n",
    "import pandas as pd # data processing, CSV file I/O (e.g. pd.read_csv)\n",
    "\n",
    "# Input data files are available in the read-only \"../input/\" directory\n",
    "# For example, running this (by clicking run or pressing Shift+Enter) will list all files under the input directory\n",
    "\n",
    "import os\n",
    "for dirname, _, filenames in os.walk('/kaggle/input'):\n",
    "    for filename in filenames:\n",
    "        print(os.path.join(dirname, filename))\n",
    "\n",
    "# You can write up to 20GB to the current directory (/kaggle/working/) that gets preserved as output when you create a version using \"Save & Run All\" \n",
    "# You can also write temporary files to /kaggle/temp/, but they won't be saved outside of the current session"
   ]
  },
  {
   "cell_type": "markdown",
   "id": "1febeed4",
   "metadata": {
    "papermill": {
     "duration": 0.002165,
     "end_time": "2023-05-19T11:44:56.693350",
     "exception": false,
     "start_time": "2023-05-19T11:44:56.691185",
     "status": "completed"
    },
    "tags": []
   },
   "source": [
    "LSTM SimpleRNN Embedding\n"
   ]
  },
  {
   "cell_type": "code",
   "execution_count": 2,
   "id": "d2d21a0f",
   "metadata": {
    "execution": {
     "iopub.execute_input": "2023-05-19T11:44:56.699890Z",
     "iopub.status.busy": "2023-05-19T11:44:56.699495Z",
     "iopub.status.idle": "2023-05-19T11:57:16.491173Z",
     "shell.execute_reply": "2023-05-19T11:57:16.490179Z"
    },
    "papermill": {
     "duration": 739.798051,
     "end_time": "2023-05-19T11:57:16.493759",
     "exception": false,
     "start_time": "2023-05-19T11:44:56.695708",
     "status": "completed"
    },
    "tags": []
   },
   "outputs": [
    {
     "name": "stderr",
     "output_type": "stream",
     "text": [
      "/opt/conda/lib/python3.10/site-packages/scipy/__init__.py:146: UserWarning: A NumPy version >=1.16.5 and <1.23.0 is required for this version of SciPy (detected version 1.23.5\n",
      "  warnings.warn(f\"A NumPy version >={np_minversion} and <{np_maxversion}\"\n"
     ]
    },
    {
     "name": "stdout",
     "output_type": "stream",
     "text": [
      "Epoch 1/10\n",
      "138/138 [==============================] - 78s 528ms/step - loss: 2.2487 - accuracy: 0.2516 - val_loss: 1.7455 - val_accuracy: 0.4585\n",
      "Epoch 2/10\n",
      "138/138 [==============================] - 70s 511ms/step - loss: 1.1313 - accuracy: 0.6531 - val_loss: 1.3004 - val_accuracy: 0.6023\n",
      "Epoch 3/10\n",
      "138/138 [==============================] - 71s 513ms/step - loss: 0.3787 - accuracy: 0.8842 - val_loss: 1.4926 - val_accuracy: 0.5991\n",
      "Epoch 4/10\n",
      "138/138 [==============================] - 71s 513ms/step - loss: 0.0950 - accuracy: 0.9757 - val_loss: 1.7362 - val_accuracy: 0.5778\n",
      "Epoch 5/10\n",
      "138/138 [==============================] - 70s 511ms/step - loss: 0.0202 - accuracy: 0.9967 - val_loss: 1.9622 - val_accuracy: 0.5751\n",
      "Epoch 6/10\n",
      "138/138 [==============================] - 71s 514ms/step - loss: 0.0049 - accuracy: 0.9993 - val_loss: 2.0861 - val_accuracy: 0.5868\n",
      "Epoch 7/10\n",
      "138/138 [==============================] - 70s 508ms/step - loss: 0.0023 - accuracy: 0.9998 - val_loss: 2.1843 - val_accuracy: 0.5805\n",
      "Epoch 8/10\n",
      "138/138 [==============================] - 71s 515ms/step - loss: 0.0025 - accuracy: 0.9995 - val_loss: 2.1650 - val_accuracy: 0.5837\n",
      "Epoch 9/10\n",
      "138/138 [==============================] - 72s 521ms/step - loss: 5.6253e-04 - accuracy: 1.0000 - val_loss: 2.2797 - val_accuracy: 0.5800\n",
      "Epoch 10/10\n",
      "138/138 [==============================] - 70s 511ms/step - loss: 3.5627e-04 - accuracy: 1.0000 - val_loss: 2.3224 - val_accuracy: 0.5859\n"
     ]
    },
    {
     "data": {
      "text/plain": [
       "<keras.callbacks.History at 0x79f7b0dc59c0>"
      ]
     },
     "execution_count": 2,
     "metadata": {},
     "output_type": "execute_result"
    }
   ],
   "source": [
    "from tensorflow import keras\n",
    "from tensorflow.keras.layers import Input, Embedding, LSTM, SimpleRNN, Dense\n",
    "from tensorflow.keras.models import Model\n",
    "from tensorflow.keras.preprocessing.sequence import pad_sequences\n",
    "from sklearn.model_selection import train_test_split\n",
    "from sklearn.preprocessing import LabelEncoder\n",
    "from tensorflow.keras.utils import to_categorical\n",
    "\n",
    "# Step 1: Prepare the data\n",
    "max_title_length = 50\n",
    "max_author_length = 50\n",
    "max_desc_length = 200\n",
    "num_classes = 10\n",
    "# Load the data\n",
    "dataset = pd.read_csv(\"/kaggle/input/2-recommended-reads-conversion-of-data-to-num/vectorizedData.csv\")\n",
    "dataset = dataset.drop_duplicates(subset=['booktitle', 'authorname'], keep='first')\n",
    "\n",
    "# Assuming you have a dataset object containing your data\n",
    "# Split the data into input (X) and output (y) variables\n",
    "X = dataset[['booktitle', 'authorname', 'bookdescription']].values\n",
    "y = dataset['type'].values\n",
    "\n",
    "# Tokenize and pad the input sequences\n",
    "tokenizer = keras.preprocessing.text.Tokenizer()\n",
    "tokenizer.fit_on_texts(X[:, 0])  # title\n",
    "tokenizer.fit_on_texts(X[:, 1])  # author\n",
    "tokenizer.fit_on_texts(X[:, 2])  # description\n",
    "\n",
    "title_sequences = tokenizer.texts_to_sequences(X[:, 0])\n",
    "title_sequences = pad_sequences(title_sequences, maxlen=max_title_length)\n",
    "author_sequences = tokenizer.texts_to_sequences(X[:, 1])\n",
    "author_sequences = pad_sequences(author_sequences, maxlen=max_author_length)\n",
    "desc_sequences = tokenizer.texts_to_sequences(X[:, 2])\n",
    "desc_sequences = pad_sequences(desc_sequences, maxlen=max_desc_length)\n",
    "\n",
    "# Encode the target labels\n",
    "label_encoder = LabelEncoder()\n",
    "encoded_labels = label_encoder.fit_transform(y)\n",
    "num_classes = len(label_encoder.classes_)\n",
    "encoded_labels = to_categorical(encoded_labels)\n",
    "\n",
    "# Split the data into training and testing sets\n",
    "train_title, test_title, train_author, test_author, train_desc, test_desc, train_labels, test_labels = \\\n",
    "    train_test_split(title_sequences, author_sequences, desc_sequences, encoded_labels, test_size=0.2, random_state=42)\n",
    "\n",
    "# Step 2: Build the model\n",
    "title_input = Input(shape=(max_title_length,))\n",
    "title_embedded = Embedding(len(tokenizer.word_index) + 1, 100)(title_input)\n",
    "title_lstm = LSTM(128)(title_embedded)\n",
    "\n",
    "author_input = Input(shape=(max_author_length,))\n",
    "author_embedded = Embedding(len(tokenizer.word_index) + 1, 100)(author_input)\n",
    "author_rnn = SimpleRNN(64)(author_embedded)\n",
    "\n",
    "desc_input = Input(shape=(max_desc_length,))\n",
    "desc_embedded = Embedding(len(tokenizer.word_index) + 1, 100)(desc_input)\n",
    "desc_lstm = LSTM(128)(desc_embedded)\n",
    "\n",
    "merged = keras.layers.concatenate([title_lstm, author_rnn, desc_lstm])\n",
    "dense = Dense(128, activation='relu')(merged)\n",
    "output = Dense(num_classes, activation='softmax')(dense)\n",
    "\n",
    "model = Model(inputs=[title_input, author_input, desc_input], outputs=output)\n",
    "\n",
    "# Compile the model\n",
    "model.compile(loss='categorical_crossentropy', optimizer='adam', metrics=['accuracy'])\n",
    "\n",
    "# Train the model\n",
    "model.fit([train_title, train_author, train_desc], train_labels, validation_data=([test_title, test_author, test_desc], test_labels), epochs=10, batch_size=64)\n"
   ]
  },
  {
   "cell_type": "code",
   "execution_count": null,
   "id": "30ce381d",
   "metadata": {
    "papermill": {
     "duration": 0.125157,
     "end_time": "2023-05-19T11:57:16.744864",
     "exception": false,
     "start_time": "2023-05-19T11:57:16.619707",
     "status": "completed"
    },
    "tags": []
   },
   "outputs": [],
   "source": []
  }
 ],
 "metadata": {
  "kernelspec": {
   "display_name": "Python 3",
   "language": "python",
   "name": "python3"
  },
  "language_info": {
   "codemirror_mode": {
    "name": "ipython",
    "version": 3
   },
   "file_extension": ".py",
   "mimetype": "text/x-python",
   "name": "python",
   "nbconvert_exporter": "python",
   "pygments_lexer": "ipython3",
   "version": "3.10.10"
  },
  "papermill": {
   "default_parameters": {},
   "duration": 756.262413,
   "end_time": "2023-05-19T11:57:20.279718",
   "environment_variables": {},
   "exception": null,
   "input_path": "__notebook__.ipynb",
   "output_path": "__notebook__.ipynb",
   "parameters": {},
   "start_time": "2023-05-19T11:44:44.017305",
   "version": "2.4.0"
  }
 },
 "nbformat": 4,
 "nbformat_minor": 5
}

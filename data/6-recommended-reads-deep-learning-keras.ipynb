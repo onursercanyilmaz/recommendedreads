{
 "cells": [
  {
   "cell_type": "code",
   "execution_count": 1,
   "id": "03e5ece3",
   "metadata": {
    "_cell_guid": "b1076dfc-b9ad-4769-8c92-a6c4dae69d19",
    "_uuid": "8f2839f25d086af736a60e9eeb907d3b93b6e0e5",
    "execution": {
     "iopub.execute_input": "2023-05-19T13:06:14.052782Z",
     "iopub.status.busy": "2023-05-19T13:06:14.052105Z",
     "iopub.status.idle": "2023-05-19T13:06:14.093577Z",
     "shell.execute_reply": "2023-05-19T13:06:14.091730Z"
    },
    "papermill": {
     "duration": 0.050208,
     "end_time": "2023-05-19T13:06:14.096352",
     "exception": false,
     "start_time": "2023-05-19T13:06:14.046144",
     "status": "completed"
    },
    "tags": []
   },
   "outputs": [
    {
     "name": "stdout",
     "output_type": "stream",
     "text": [
      "/kaggle/input/2-recommended-reads-conversion-of-data-to-num/__results__.html\n",
      "/kaggle/input/2-recommended-reads-conversion-of-data-to-num/vectorizedData.csv\n",
      "/kaggle/input/2-recommended-reads-conversion-of-data-to-num/__notebook__.ipynb\n",
      "/kaggle/input/2-recommended-reads-conversion-of-data-to-num/__output__.json\n",
      "/kaggle/input/2-recommended-reads-conversion-of-data-to-num/custom.css\n",
      "/kaggle/input/2-recommended-reads-conversion-of-data-to-num/__results___files/__results___9_0.png\n",
      "/kaggle/input/googlenewsvectors/GoogleNews-vectors-negative300.bin\n"
     ]
    }
   ],
   "source": [
    "# This Python 3 environment comes with many helpful analytics libraries installed\n",
    "# It is defined by the kaggle/python Docker image: https://github.com/kaggle/docker-python\n",
    "# For example, here's several helpful packages to load\n",
    "\n",
    "import numpy as np # linear algebra\n",
    "import pandas as pd # data processing, CSV file I/O (e.g. pd.read_csv)\n",
    "\n",
    "# Input data files are available in the read-only \"../input/\" directory\n",
    "# For example, running this (by clicking run or pressing Shift+Enter) will list all files under the input directory\n",
    "\n",
    "import os\n",
    "for dirname, _, filenames in os.walk('/kaggle/input'):\n",
    "    for filename in filenames:\n",
    "        print(os.path.join(dirname, filename))\n",
    "\n",
    "# You can write up to 20GB to the current directory (/kaggle/working/) that gets preserved as output when you create a version using \"Save & Run All\" \n",
    "# You can also write temporary files to /kaggle/temp/, but they won't be saved outside of the current session"
   ]
  },
  {
   "cell_type": "markdown",
   "id": "c3e4681c",
   "metadata": {
    "papermill": {
     "duration": 0.003692,
     "end_time": "2023-05-19T13:06:14.104381",
     "exception": false,
     "start_time": "2023-05-19T13:06:14.100689",
     "status": "completed"
    },
    "tags": []
   },
   "source": [
    "LSTM SimpleRNN Embedding\n"
   ]
  },
  {
   "cell_type": "code",
   "execution_count": 2,
   "id": "4e271c28",
   "metadata": {
    "execution": {
     "iopub.execute_input": "2023-05-19T13:06:14.114163Z",
     "iopub.status.busy": "2023-05-19T13:06:14.113763Z",
     "iopub.status.idle": "2023-05-19T13:19:04.788911Z",
     "shell.execute_reply": "2023-05-19T13:19:04.787600Z"
    },
    "papermill": {
     "duration": 770.808512,
     "end_time": "2023-05-19T13:19:04.916947",
     "exception": false,
     "start_time": "2023-05-19T13:06:14.108435",
     "status": "completed"
    },
    "tags": []
   },
   "outputs": [
    {
     "name": "stderr",
     "output_type": "stream",
     "text": [
      "/opt/conda/lib/python3.10/site-packages/scipy/__init__.py:146: UserWarning: A NumPy version >=1.16.5 and <1.23.0 is required for this version of SciPy (detected version 1.23.5\n",
      "  warnings.warn(f\"A NumPy version >={np_minversion} and <{np_maxversion}\"\n"
     ]
    },
    {
     "name": "stdout",
     "output_type": "stream",
     "text": [
      "Epoch 1/10\n",
      "138/138 [==============================] - 78s 525ms/step - loss: 2.2424 - accuracy: 0.2528 - val_loss: 1.6955 - val_accuracy: 0.4689\n",
      "Epoch 2/10\n",
      "138/138 [==============================] - 71s 516ms/step - loss: 1.1398 - accuracy: 0.6551 - val_loss: 1.3099 - val_accuracy: 0.6041\n",
      "Epoch 3/10\n",
      "138/138 [==============================] - 72s 520ms/step - loss: 0.3850 - accuracy: 0.8874 - val_loss: 1.4355 - val_accuracy: 0.6095\n",
      "Epoch 4/10\n",
      "138/138 [==============================] - 71s 513ms/step - loss: 0.0973 - accuracy: 0.9756 - val_loss: 1.7127 - val_accuracy: 0.5946\n",
      "Epoch 5/10\n",
      "138/138 [==============================] - 70s 511ms/step - loss: 0.0218 - accuracy: 0.9969 - val_loss: 1.9508 - val_accuracy: 0.5900\n",
      "Epoch 6/10\n",
      "138/138 [==============================] - 72s 519ms/step - loss: 0.0065 - accuracy: 0.9997 - val_loss: 2.0225 - val_accuracy: 0.5982\n",
      "Epoch 7/10\n",
      "138/138 [==============================] - 73s 528ms/step - loss: 0.0024 - accuracy: 0.9997 - val_loss: 2.2711 - val_accuracy: 0.5887\n",
      "Epoch 8/10\n",
      "138/138 [==============================] - 72s 524ms/step - loss: 0.0011 - accuracy: 0.9999 - val_loss: 2.2799 - val_accuracy: 0.5946\n",
      "Epoch 9/10\n",
      "138/138 [==============================] - 73s 529ms/step - loss: 0.0012 - accuracy: 0.9998 - val_loss: 2.2902 - val_accuracy: 0.5982\n",
      "Epoch 10/10\n",
      "138/138 [==============================] - 73s 526ms/step - loss: 7.5038e-04 - accuracy: 0.9999 - val_loss: 2.3968 - val_accuracy: 0.5810\n"
     ]
    },
    {
     "data": {
      "text/plain": [
       "<keras.callbacks.History at 0x7a6645d1d870>"
      ]
     },
     "execution_count": 2,
     "metadata": {},
     "output_type": "execute_result"
    }
   ],
   "source": [
    "from tensorflow import keras\n",
    "from tensorflow.keras.layers import Input, Embedding, LSTM, SimpleRNN, Dense\n",
    "from tensorflow.keras.models import Model\n",
    "from tensorflow.keras.preprocessing.sequence import pad_sequences\n",
    "from sklearn.model_selection import train_test_split\n",
    "from sklearn.preprocessing import LabelEncoder\n",
    "from tensorflow.keras.utils import to_categorical\n",
    "\n",
    "# Step 1: Prepare the data\n",
    "max_title_length = 50\n",
    "max_author_length = 50\n",
    "max_desc_length = 200\n",
    "num_classes = 10\n",
    "# Load the data\n",
    "dataset = pd.read_csv(\"/kaggle/input/2-recommended-reads-conversion-of-data-to-num/vectorizedData.csv\")\n",
    "dataset = dataset.drop_duplicates(subset=['booktitle', 'authorname'], keep='first')\n",
    "\n",
    "# Assuming you have a dataset object containing your data\n",
    "# Split the data into input (X) and output (y) variables\n",
    "X = dataset[['booktitle', 'authorname', 'bookdescription']].values\n",
    "y = dataset['type'].values\n",
    "\n",
    "# Tokenize and pad the input sequences\n",
    "tokenizer = keras.preprocessing.text.Tokenizer()\n",
    "tokenizer.fit_on_texts(X[:, 0])  # title\n",
    "tokenizer.fit_on_texts(X[:, 1])  # author\n",
    "tokenizer.fit_on_texts(X[:, 2])  # description\n",
    "\n",
    "title_sequences = tokenizer.texts_to_sequences(X[:, 0])\n",
    "title_sequences = pad_sequences(title_sequences, maxlen=max_title_length)\n",
    "author_sequences = tokenizer.texts_to_sequences(X[:, 1])\n",
    "author_sequences = pad_sequences(author_sequences, maxlen=max_author_length)\n",
    "desc_sequences = tokenizer.texts_to_sequences(X[:, 2])\n",
    "desc_sequences = pad_sequences(desc_sequences, maxlen=max_desc_length)\n",
    "\n",
    "# Encode the target labels\n",
    "label_encoder = LabelEncoder()\n",
    "encoded_labels = label_encoder.fit_transform(y)\n",
    "num_classes = len(label_encoder.classes_)\n",
    "encoded_labels = to_categorical(encoded_labels)\n",
    "\n",
    "# Split the data into training and testing sets\n",
    "train_title, test_title, train_author, test_author, train_desc, test_desc, train_labels, test_labels = \\\n",
    "    train_test_split(title_sequences, author_sequences, desc_sequences, encoded_labels, test_size=0.2, random_state=42)\n",
    "\n",
    "# Step 2: Build the model\n",
    "title_input = Input(shape=(max_title_length,))\n",
    "title_embedded = Embedding(len(tokenizer.word_index) + 1, 100)(title_input)\n",
    "title_lstm = LSTM(128)(title_embedded)\n",
    "\n",
    "author_input = Input(shape=(max_author_length,))\n",
    "author_embedded = Embedding(len(tokenizer.word_index) + 1, 100)(author_input)\n",
    "author_rnn = SimpleRNN(64)(author_embedded)\n",
    "\n",
    "desc_input = Input(shape=(max_desc_length,))\n",
    "desc_embedded = Embedding(len(tokenizer.word_index) + 1, 100)(desc_input)\n",
    "desc_lstm = LSTM(128)(desc_embedded)\n",
    "\n",
    "merged = keras.layers.concatenate([title_lstm, author_rnn, desc_lstm])\n",
    "dense = Dense(128, activation='relu')(merged)\n",
    "output = Dense(num_classes, activation='softmax')(dense)\n",
    "\n",
    "model = Model(inputs=[title_input, author_input, desc_input], outputs=output)\n",
    "\n",
    "# Compile the model\n",
    "model.compile(loss='categorical_crossentropy', optimizer='adam', metrics=['accuracy'])\n",
    "\n",
    "# Train the model\n",
    "model.fit([train_title, train_author, train_desc], train_labels, validation_data=([test_title, test_author, test_desc], test_labels), epochs=10, batch_size=64)\n"
   ]
  },
  {
   "cell_type": "code",
   "execution_count": 3,
   "id": "3875a934",
   "metadata": {
    "execution": {
     "iopub.execute_input": "2023-05-19T13:19:05.175545Z",
     "iopub.status.busy": "2023-05-19T13:19:05.175142Z",
     "iopub.status.idle": "2023-05-19T13:19:05.794720Z",
     "shell.execute_reply": "2023-05-19T13:19:05.793690Z"
    },
    "papermill": {
     "duration": 0.752112,
     "end_time": "2023-05-19T13:19:05.797885",
     "exception": false,
     "start_time": "2023-05-19T13:19:05.045773",
     "status": "completed"
    },
    "tags": []
   },
   "outputs": [],
   "source": [
    "model.save(\"booktypemodel.h5\")"
   ]
  },
  {
   "cell_type": "code",
   "execution_count": 4,
   "id": "974cf8ee",
   "metadata": {
    "execution": {
     "iopub.execute_input": "2023-05-19T13:19:06.053912Z",
     "iopub.status.busy": "2023-05-19T13:19:06.053476Z",
     "iopub.status.idle": "2023-05-19T13:19:06.060901Z",
     "shell.execute_reply": "2023-05-19T13:19:06.059747Z"
    },
    "papermill": {
     "duration": 0.137942,
     "end_time": "2023-05-19T13:19:06.063072",
     "exception": false,
     "start_time": "2023-05-19T13:19:05.925130",
     "status": "completed"
    },
    "tags": []
   },
   "outputs": [],
   "source": [
    "# Assuming you have a new input example\n",
    "new_title = \"New Book Title\"\n",
    "new_author = \"New Author Name\"\n",
    "new_desc = \"New Book Description\"\n",
    "\n",
    "# Tokenize and pad the input sequences\n",
    "new_title_sequence = tokenizer.texts_to_sequences([new_title])\n",
    "new_title_sequence = pad_sequences(new_title_sequence, maxlen=max_title_length)\n",
    "new_author_sequence = tokenizer.texts_to_sequences([new_author])\n",
    "new_author_sequence = pad_sequences(new_author_sequence, maxlen=max_author_length)\n",
    "new_desc_sequence = tokenizer.texts_to_sequences([new_desc])\n",
    "new_desc_sequence = pad_sequences(new_desc_sequence, maxlen=max_desc_length)\n"
   ]
  },
  {
   "cell_type": "code",
   "execution_count": 5,
   "id": "0aef045b",
   "metadata": {
    "execution": {
     "iopub.execute_input": "2023-05-19T13:19:06.317103Z",
     "iopub.status.busy": "2023-05-19T13:19:06.316728Z",
     "iopub.status.idle": "2023-05-19T13:19:07.412525Z",
     "shell.execute_reply": "2023-05-19T13:19:07.411375Z"
    },
    "papermill": {
     "duration": 1.22604,
     "end_time": "2023-05-19T13:19:07.415181",
     "exception": false,
     "start_time": "2023-05-19T13:19:06.189141",
     "status": "completed"
    },
    "tags": []
   },
   "outputs": [
    {
     "name": "stdout",
     "output_type": "stream",
     "text": [
      "1/1 [==============================] - 1s 1s/step\n"
     ]
    }
   ],
   "source": [
    "prediction = model.predict([new_title_sequence, new_author_sequence, new_desc_sequence])\n"
   ]
  },
  {
   "cell_type": "code",
   "execution_count": 6,
   "id": "02b883e6",
   "metadata": {
    "execution": {
     "iopub.execute_input": "2023-05-19T13:19:07.669891Z",
     "iopub.status.busy": "2023-05-19T13:19:07.669474Z",
     "iopub.status.idle": "2023-05-19T13:19:07.674005Z",
     "shell.execute_reply": "2023-05-19T13:19:07.673055Z"
    },
    "papermill": {
     "duration": 0.134101,
     "end_time": "2023-05-19T13:19:07.676200",
     "exception": false,
     "start_time": "2023-05-19T13:19:07.542099",
     "status": "completed"
    },
    "tags": []
   },
   "outputs": [],
   "source": [
    "predicted_class_index = np.argmax(prediction)\n"
   ]
  },
  {
   "cell_type": "code",
   "execution_count": 7,
   "id": "734c495c",
   "metadata": {
    "execution": {
     "iopub.execute_input": "2023-05-19T13:19:07.931780Z",
     "iopub.status.busy": "2023-05-19T13:19:07.931333Z",
     "iopub.status.idle": "2023-05-19T13:19:07.938270Z",
     "shell.execute_reply": "2023-05-19T13:19:07.937114Z"
    },
    "papermill": {
     "duration": 0.137653,
     "end_time": "2023-05-19T13:19:07.940528",
     "exception": false,
     "start_time": "2023-05-19T13:19:07.802875",
     "status": "completed"
    },
    "tags": []
   },
   "outputs": [
    {
     "data": {
      "text/plain": [
       "'cyberpunk'"
      ]
     },
     "execution_count": 7,
     "metadata": {},
     "output_type": "execute_result"
    }
   ],
   "source": [
    "predicted_class = label_encoder.classes_[predicted_class_index]\n",
    "predicted_class"
   ]
  },
  {
   "cell_type": "code",
   "execution_count": null,
   "id": "ebd1cb96",
   "metadata": {
    "papermill": {
     "duration": 0.126551,
     "end_time": "2023-05-19T13:19:08.195564",
     "exception": false,
     "start_time": "2023-05-19T13:19:08.069013",
     "status": "completed"
    },
    "tags": []
   },
   "outputs": [],
   "source": []
  }
 ],
 "metadata": {
  "kernelspec": {
   "display_name": "Python 3",
   "language": "python",
   "name": "python3"
  },
  "language_info": {
   "codemirror_mode": {
    "name": "ipython",
    "version": 3
   },
   "file_extension": ".py",
   "mimetype": "text/x-python",
   "name": "python",
   "nbconvert_exporter": "python",
   "pygments_lexer": "ipython3",
   "version": "3.10.10"
  },
  "papermill": {
   "default_parameters": {},
   "duration": 790.273759,
   "end_time": "2023-05-19T13:19:12.065382",
   "environment_variables": {},
   "exception": null,
   "input_path": "__notebook__.ipynb",
   "output_path": "__notebook__.ipynb",
   "parameters": {},
   "start_time": "2023-05-19T13:06:01.791623",
   "version": "2.4.0"
  }
 },
 "nbformat": 4,
 "nbformat_minor": 5
}
